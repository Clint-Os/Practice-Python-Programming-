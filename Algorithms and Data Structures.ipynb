{
 "cells": [
  {
   "cell_type": "markdown",
   "metadata": {},
   "source": [
    "Bubble Sort"
   ]
  },
  {
   "cell_type": "code",
   "execution_count": 1,
   "metadata": {},
   "outputs": [],
   "source": [
    "def bubble_sort(list):\n",
    "    unsorted_until_index = len(list) -1 #this var keeps track of the rightmost index of the array that has not been sorted\n",
    "    sorted = False #keeps track of whether the array is fully sorted. When we first run, it's not sorted, so we set to false.\n",
    "    while not sorted: #each run of this loop represents a pas-through of the array\n",
    "        sorted = True #assume array is sorted, until you find a swap in the inner loop\n",
    "        for i in range(unsorted_until_index):\n",
    "            if list[i] > list[i+1]:\n",
    "                list[i], list[i+1] = list[i+1], list[i]\n",
    "                sorted = False #if a swap is encountered in the pass, the array isn't fully sorted.\n",
    "        unsorted_until_index -= 1  #after each pass through, the last index is sorted, and thus decreases by one. \n",
    "    return list #return the sorted array "
   ]
  },
  {
   "cell_type": "code",
   "execution_count": 2,
   "metadata": {},
   "outputs": [
    {
     "name": "stdout",
     "output_type": "stream",
     "text": [
      "[10, 15, 25, 35, 45, 55, 65]\n"
     ]
    }
   ],
   "source": [
    "#pass an unsorted array to it to run the function\n",
    "\n",
    "print(bubble_sort([65, 55,45,35,25,15,10]))"
   ]
  },
  {
   "cell_type": "markdown",
   "metadata": {},
   "source": [
    "Insertion Sort"
   ]
  },
  {
   "cell_type": "code",
   "execution_count": 1,
   "metadata": {},
   "outputs": [],
   "source": [
    "def insertion_sort(array):\n",
    "    for index in range(1, len(array)):\n",
    "        temp_value = array[index]\n",
    "        position = index -1  #starts immediately to the left of the index of temp_value \n",
    "\n",
    "        while position >=0:\n",
    "            if array[position] > temp_value:\n",
    "                array[position +1] = array[position] #if value at position is greater than temp_value, move it to the right\n",
    "                position = position -1 #decrement position by 1 to compare the left val against the temp_value\n",
    "            else:\n",
    "                break\n",
    "\n",
    "        array[position+1] = temp_value #final step is moving the temp_value back into the array/gap. \n",
    "\n",
    "    return array"
   ]
  },
  {
   "cell_type": "code",
   "execution_count": 3,
   "metadata": {},
   "outputs": [
    {
     "name": "stdout",
     "output_type": "stream",
     "text": [
      "[1, 2, 3, 4, 5, 6, 7, 8, 9]\n"
     ]
    }
   ],
   "source": [
    "print(insertion_sort([5,2, 9, 7, 3, 6, 4, 8, 1]))"
   ]
  },
  {
   "cell_type": "markdown",
   "metadata": {},
   "source": [
    "Big O in everyday Code"
   ]
  },
  {
   "cell_type": "markdown",
   "metadata": {},
   "source": [
    "Mean Average of Even numbers"
   ]
  },
  {
   "cell_type": "code",
   "execution_count": 1,
   "metadata": {},
   "outputs": [],
   "source": [
    "def average_of_even_numbers(array):\n",
    "    sum = 0\n",
    "    count = 0\n",
    "    for i in array:\n",
    "        if i % 2 ==0:\n",
    "            sum += i\n",
    "            count += 1\n",
    "    return sum/count "
   ]
  },
  {
   "cell_type": "markdown",
   "metadata": {},
   "source": [
    "Looking inside the loop, we see that a varying number of steps\n",
    "occur within each round of the loop. For each and every number, we check\n",
    "whether the number is even. \n",
    "\n",
    "Then, if the number is even, we perform two\n",
    "more steps: we modify the sum variable, and we modify the count_of_even_numbers\n",
    "variable. So, we execute three more steps for even numbers than we do for\n",
    "odd numbers."
   ]
  },
  {
   "cell_type": "markdown",
   "metadata": {},
   "source": [
    "In our\n",
    "case, the worst case is when all the numbers are even, in which case we perform three steps during each round of the loop. Because of this, we can\n",
    "say that for N data elements, our algorithm takes 3N steps. That is, for each\n",
    "of the N numbers, our algorithm executes three steps.\n",
    "\n",
    "our method performs a few other steps outside of the loop i.e. before\n",
    "the loop, we initialize the two variables and set them to 0. Technically, these\n",
    "are two steps.\n",
    "\n",
    "After the loop, we perform another step: the division of sum /\n",
    "count_of_even_numbers. Technically, then, our algorithm takes three extra steps\n",
    "in addition to the 3N steps, so the total number of steps is 3N + 3.\n",
    "\n",
    "Thus according to Big O principle, our algorithm is O(N)"
   ]
  },
  {
   "cell_type": "markdown",
   "metadata": {},
   "source": [
    "-----------------------------------------------------------------------"
   ]
  },
  {
   "cell_type": "markdown",
   "metadata": {},
   "source": [
    "Word Builder"
   ]
  },
  {
   "cell_type": "markdown",
   "metadata": {},
   "source": [
    "This algorithm collects every combination of two character\n",
    "strings built from an array of single characters"
   ]
  },
  {
   "cell_type": "code",
   "execution_count": 4,
   "metadata": {},
   "outputs": [],
   "source": [
    "def wordbuilder(array):\n",
    "    collection = []\n",
    "    for i in range (len(array)):\n",
    "        for j in range (len(array[i])):\n",
    "            if i !=j:\n",
    "                collection.append(array[i] + array[j])\n",
    "    return collection"
   ]
  },
  {
   "cell_type": "code",
   "execution_count": 7,
   "metadata": {},
   "outputs": [
    {
     "data": {
      "text/plain": [
       "['ba', 'ca', 'da', 'ea']"
      ]
     },
     "execution_count": 7,
     "metadata": {},
     "output_type": "execute_result"
    }
   ],
   "source": [
    "array = ['a', 'b', 'c', 'd', 'e']\n",
    "\n",
    "wordbuilder(array) "
   ]
  },
  {
   "cell_type": "markdown",
   "metadata": {},
   "source": [
    "we’re running one loop nested inside another. The outer loop iterates\n",
    "over each character in the array, keeping track of the index i.\n",
    "\n",
    "For each index\n",
    "i, we run an inner loop that iterates again over each character in the same\n",
    "array using the index j. \n",
    "\n",
    "Within this inner loop, we concatenate the characters\n",
    "at i and j, with the exception of when i and j are pointing to the same index"
   ]
  },
  {
   "cell_type": "markdown",
   "metadata": {},
   "source": [
    "Nested loop algorithms have O(N^2) time complexity. "
   ]
  },
  {
   "cell_type": "markdown",
   "metadata": {},
   "source": [
    "---------------------------------------------------------------------------"
   ]
  },
  {
   "cell_type": "markdown",
   "metadata": {},
   "source": [
    "Array Sample"
   ]
  },
  {
   "cell_type": "code",
   "execution_count": 8,
   "metadata": {},
   "outputs": [],
   "source": [
    "def sample(array):\n",
    "    first = array[0]\n",
    "    middle = array[int(len(array)/2)]\n",
    "    last = array [-1]\n",
    "\n",
    "    return first, middle, last"
   ]
  },
  {
   "cell_type": "markdown",
   "metadata": {},
   "source": [
    "our function ends up taking the same number of steps no matter\n",
    "what N is. Reading from the beginning, midpoint, and last indexes of an array\n",
    "each takes one step no matter the size of the array. \n",
    "\n",
    "Similarly, finding the\n",
    "array’s length and dividing it by 2 also takes one step\n",
    "\n",
    "Since the number of steps is constant—that is, it remains the same no matter\n",
    "what N is—this algorithm is considered O(1)."
   ]
  },
  {
   "cell_type": "markdown",
   "metadata": {},
   "source": [
    "Average Celsius Reading"
   ]
  },
  {
   "cell_type": "code",
   "execution_count": 11,
   "metadata": {},
   "outputs": [],
   "source": [
    "def average_celsius(fahrenheit_list):\n",
    "    #collect celsius numbers:\n",
    "    celsius_numbers = []\n",
    "    #convert celsisus to fahrenheit:\n",
    "    for fahrenheit in fahrenheit_list:\n",
    "        celsius_conversion = (fahrenheit - 32) / 1.8 \n",
    "        celsius_numbers.append(celsius_conversion)\n",
    "\n",
    "    total_sum = sum(celsius_numbers)\n",
    "\n",
    "    return total_sum/len(celsius_numbers) if celsius_numbers else 0 \n"
   ]
  },
  {
   "cell_type": "code",
   "execution_count": 12,
   "metadata": {},
   "outputs": [
    {
     "name": "stdout",
     "output_type": "stream",
     "text": [
      "11.666666666666666\n"
     ]
    }
   ],
   "source": [
    "fahrenheit_values = [32, 50, 77]\n",
    "average = average_celsius(fahrenheit_values)\n",
    "print(average)\n"
   ]
  },
  {
   "cell_type": "markdown",
   "metadata": {},
   "source": [
    "We run two loops,the first converts the readings to Celsius,\n",
    "and the second sums all the Celsius numbers. Since we have two loops (which are not nested) that\n",
    "each iterate over all N elements, we have N + N, which is 2N (plus a few constant\n",
    "steps). Because Big O Notation drops the constants, this gets reduced to O(N)."
   ]
  },
  {
   "cell_type": "markdown",
   "metadata": {},
   "source": [
    "Clothing Labels "
   ]
  },
  {
   "cell_type": "code",
   "execution_count": 13,
   "metadata": {},
   "outputs": [],
   "source": [
    "def mark_inventory(clothing_items):\n",
    "    clothing_options = []\n",
    "    for item in clothing_items:\n",
    "        for size in range(1,6):\n",
    "            clothing_options.append((item + ' size:' + str(size)))\n",
    "\n",
    "    return clothing_options"
   ]
  },
  {
   "cell_type": "markdown",
   "metadata": {},
   "source": [
    "While code containing nested loops often is O(N2), in this case, it’s not. Nested loops that result in O(N2) occur when each loop revolves around N. In our case, however, while our outer loop runs N times, our inner loop runs a constant five times. \n",
    "\n",
    "This inner loop will always run five times no matter what N is. While this means our algorithm runs 5N times, this is reduced to O(N), since Big O notation ignores constants"
   ]
  },
  {
   "cell_type": "markdown",
   "metadata": {},
   "source": [
    "Count the Ones"
   ]
  },
  {
   "cell_type": "code",
   "execution_count": 14,
   "metadata": {},
   "outputs": [],
   "source": [
    "def count_ones(outer_array):\n",
    "    count = 0\n",
    "    \n",
    "    for inner_array in outer_array:\n",
    "        for number in inner_array:\n",
    "            if number ==1:\n",
    "                count +=1 \n",
    "    \n",
    "    return count "
   ]
  },
  {
   "cell_type": "markdown",
   "metadata": {},
   "source": [
    "The outer loop is iterating over the inner arrays, and the inner loop is iterating\n",
    "over the actual numbers. \n",
    "\n",
    "At the end of the day, our inner loop only runs for\n",
    "as many numbers as there are in total. Our algorithm simply processes each number, the function’s time\n",
    "complexity is O(N)."
   ]
  },
  {
   "cell_type": "markdown",
   "metadata": {},
   "source": [
    "-----------------------------------------------------------------------"
   ]
  },
  {
   "cell_type": "markdown",
   "metadata": {},
   "source": [
    "Dealing with Multiple Datasets"
   ]
  },
  {
   "cell_type": "code",
   "execution_count": 17,
   "metadata": {},
   "outputs": [],
   "source": [
    "def two_number_products(array1, array2):\n",
    "    products = []\n",
    "\n",
    "    for i in range(len(array1)): #for each element in array1:\n",
    "        for j in range (len(array2)): #for each element in array2:\n",
    "            products.append(array1[i] * array2[j])\n",
    "\n",
    "    return products"
   ]
  },
  {
   "cell_type": "code",
   "execution_count": 18,
   "metadata": {},
   "outputs": [
    {
     "name": "stdout",
     "output_type": "stream",
     "text": [
      "[4, 5, 8, 10, 12, 15]\n"
     ]
    }
   ],
   "source": [
    "array1 = [1, 2, 3]\n",
    "array2 = [4, 5]\n",
    "\n",
    "result = two_number_products(array1, array2)\n",
    "\n",
    "print(result)\n"
   ]
  },
  {
   "cell_type": "markdown",
   "metadata": {},
   "source": [
    "We express the time complexity as O(N * M), where N is the size of one array, and M is the size of\n",
    "the other.\n",
    "\n",
    "whenever we have two distinct datasets that have to interact with each other through multiplication, we have to identify both sources separately when we describe the efficiency in terms of Big O. \n",
    "\n",
    "We do know that there’s a specific range in which O(N * M) lies. That is, if N and M are the same, it’s equivalent to O(N2). And if they’re not the same, and we arbitrarily assign the smaller number to be M, even if M is as\n",
    "low as 1, we end up with O(N).\n",
    "\n",
    "In a sense then, O(N * M) can be construed as a range between O(N) and O(N2)"
   ]
  },
  {
   "cell_type": "code",
   "execution_count": null,
   "metadata": {},
   "outputs": [],
   "source": []
  },
  {
   "cell_type": "code",
   "execution_count": null,
   "metadata": {},
   "outputs": [],
   "source": []
  },
  {
   "cell_type": "code",
   "execution_count": null,
   "metadata": {},
   "outputs": [],
   "source": []
  },
  {
   "cell_type": "code",
   "execution_count": null,
   "metadata": {},
   "outputs": [],
   "source": []
  },
  {
   "cell_type": "code",
   "execution_count": null,
   "metadata": {},
   "outputs": [],
   "source": []
  },
  {
   "cell_type": "code",
   "execution_count": null,
   "metadata": {},
   "outputs": [],
   "source": []
  },
  {
   "cell_type": "code",
   "execution_count": null,
   "metadata": {},
   "outputs": [],
   "source": []
  },
  {
   "cell_type": "code",
   "execution_count": null,
   "metadata": {},
   "outputs": [],
   "source": []
  },
  {
   "cell_type": "code",
   "execution_count": null,
   "metadata": {},
   "outputs": [],
   "source": []
  },
  {
   "cell_type": "code",
   "execution_count": null,
   "metadata": {},
   "outputs": [],
   "source": []
  },
  {
   "cell_type": "code",
   "execution_count": null,
   "metadata": {},
   "outputs": [],
   "source": []
  },
  {
   "cell_type": "code",
   "execution_count": null,
   "metadata": {},
   "outputs": [],
   "source": []
  },
  {
   "cell_type": "code",
   "execution_count": null,
   "metadata": {},
   "outputs": [],
   "source": []
  },
  {
   "cell_type": "code",
   "execution_count": null,
   "metadata": {},
   "outputs": [],
   "source": []
  },
  {
   "cell_type": "code",
   "execution_count": null,
   "metadata": {},
   "outputs": [],
   "source": []
  }
 ],
 "metadata": {
  "kernelspec": {
   "display_name": "base",
   "language": "python",
   "name": "python3"
  },
  "language_info": {
   "codemirror_mode": {
    "name": "ipython",
    "version": 3
   },
   "file_extension": ".py",
   "mimetype": "text/x-python",
   "name": "python",
   "nbconvert_exporter": "python",
   "pygments_lexer": "ipython3",
   "version": "3.12.4"
  }
 },
 "nbformat": 4,
 "nbformat_minor": 2
}
